{
 "cells": [
  {
   "cell_type": "code",
   "execution_count": null,
   "id": "93699317-b59f-4326-a537-95b1d242e551",
   "metadata": {},
   "outputs": [],
   "source": []
  }
 ],
 "metadata": {
  "kernelspec": {
   "display_name": "",
   "name": ""
  },
  "language_info": {
   "name": ""
  }
 },
 "nbformat": 4,
 "nbformat_minor": 5
}
